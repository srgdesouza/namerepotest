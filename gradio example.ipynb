{
  "nbformat": 4,
  "nbformat_minor": 0,
  "metadata": {
    "colab": {
      "provenance": [],
      "authorship_tag": "ABX9TyMRD/kZRQHMVdRYEHSpMuQ8",
      "include_colab_link": true
    },
    "kernelspec": {
      "name": "python3",
      "display_name": "Python 3"
    },
    "language_info": {
      "name": "python"
    }
  },
  "cells": [
    {
      "cell_type": "markdown",
      "metadata": {
        "id": "view-in-github",
        "colab_type": "text"
      },
      "source": [
        "<a href=\"https://colab.research.google.com/github/srgdesouza/namerepotest/blob/main/gradio%20example.ipynb\" target=\"_parent\"><img src=\"https://colab.research.google.com/assets/colab-badge.svg\" alt=\"Open In Colab\"/></a>"
      ]
    },
    {
      "cell_type": "code",
      "execution_count": null,
      "metadata": {
        "id": "z_fcmOON1hRL"
      },
      "outputs": [],
      "source": [
        "#!pip install gradio\n",
        "#! pip install transformers\n",
        "\n",
        "import gradio as gr\n",
        "from transformers import pipeline\n",
        "\n",
        "sentiment_analysis = pipeline(\"sentiment-analysis\", model=\"siebert/sentiment-roberta-large-english\")\n",
        "\n",
        "def predict_sentiment(text):\n",
        "    result = sentiment_analysis(text)[0]\n",
        "    return f\"{result['label']} ({result['score']:.2f})\"\n",
        "\n",
        "iface = gr.Interface(fn=predict_sentiment, inputs=\"text\", outputs=\"text\")\n",
        "iface.launch()"
      ]
    },
    {
      "cell_type": "code",
      "source": [
        "!pip install optuna\n",
        "import optuna\n",
        "def objective(trial):\n",
        "        # define two variables:\n",
        "        A = trial.suggest_categorical('A', [1,2,3])\n",
        "        B = trial.suggest_categorical('B', [5,6])\n",
        "        # minimize this toy objective:\n",
        "        obj = A/B\n",
        "        return obj\n",
        "study = optuna.create_study(direction=\"minimize\")\n",
        "study.optimize(objective, n_trials=20)"
      ],
      "metadata": {
        "colab": {
          "base_uri": "https://localhost:8080/"
        },
        "id": "ip88h5rV9NMJ",
        "outputId": "5d56350b-91c2-4c4c-b391-5dff82d9a59c"
      },
      "execution_count": null,
      "outputs": [
        {
          "output_type": "stream",
          "name": "stdout",
          "text": [
            "Looking in indexes: https://pypi.org/simple, https://us-python.pkg.dev/colab-wheels/public/simple/\n",
            "Collecting optuna\n",
            "  Downloading optuna-3.1.0-py3-none-any.whl (365 kB)\n",
            "\u001b[2K     \u001b[90m━━━━━━━━━━━━━━━━━━━━━━━━━━━━━━━━━━━━━━━\u001b[0m \u001b[32m365.3/365.3 KB\u001b[0m \u001b[31m5.2 MB/s\u001b[0m eta \u001b[36m0:00:00\u001b[0m\n",
            "\u001b[?25hRequirement already satisfied: sqlalchemy>=1.3.0 in /usr/local/lib/python3.9/dist-packages (from optuna) (1.4.47)\n",
            "Requirement already satisfied: PyYAML in /usr/local/lib/python3.9/dist-packages (from optuna) (6.0)\n",
            "Collecting colorlog\n",
            "  Downloading colorlog-6.7.0-py2.py3-none-any.whl (11 kB)\n",
            "Requirement already satisfied: tqdm in /usr/local/lib/python3.9/dist-packages (from optuna) (4.65.0)\n",
            "Requirement already satisfied: numpy in /usr/local/lib/python3.9/dist-packages (from optuna) (1.22.4)\n",
            "Requirement already satisfied: packaging>=20.0 in /usr/local/lib/python3.9/dist-packages (from optuna) (23.0)\n",
            "Collecting alembic>=1.5.0\n",
            "  Downloading alembic-1.10.2-py3-none-any.whl (212 kB)\n",
            "\u001b[2K     \u001b[90m━━━━━━━━━━━━━━━━━━━━━━━━━━━━━━━━━━━━━━━\u001b[0m \u001b[32m212.2/212.2 KB\u001b[0m \u001b[31m5.3 MB/s\u001b[0m eta \u001b[36m0:00:00\u001b[0m\n",
            "\u001b[?25hCollecting cmaes>=0.9.1\n",
            "  Downloading cmaes-0.9.1-py3-none-any.whl (21 kB)\n",
            "Requirement already satisfied: typing-extensions>=4 in /usr/local/lib/python3.9/dist-packages (from alembic>=1.5.0->optuna) (4.5.0)\n",
            "Collecting Mako\n",
            "  Downloading Mako-1.2.4-py3-none-any.whl (78 kB)\n",
            "\u001b[2K     \u001b[90m━━━━━━━━━━━━━━━━━━━━━━━━━━━━━━━━━━━━━━━━\u001b[0m \u001b[32m78.7/78.7 KB\u001b[0m \u001b[31m4.3 MB/s\u001b[0m eta \u001b[36m0:00:00\u001b[0m\n",
            "\u001b[?25hRequirement already satisfied: greenlet!=0.4.17 in /usr/local/lib/python3.9/dist-packages (from sqlalchemy>=1.3.0->optuna) (2.0.2)\n",
            "Requirement already satisfied: MarkupSafe>=0.9.2 in /usr/local/lib/python3.9/dist-packages (from Mako->alembic>=1.5.0->optuna) (2.1.2)\n",
            "Installing collected packages: Mako, colorlog, cmaes, alembic, optuna\n",
            "Successfully installed Mako-1.2.4 alembic-1.10.2 cmaes-0.9.1 colorlog-6.7.0 optuna-3.1.0\n"
          ]
        },
        {
          "output_type": "stream",
          "name": "stderr",
          "text": [
            "\u001b[32m[I 2023-03-31 18:37:16,762]\u001b[0m A new study created in memory with name: no-name-e9396a13-5879-415d-b7e7-faad772aacab\u001b[0m\n",
            "\u001b[32m[I 2023-03-31 18:37:16,767]\u001b[0m Trial 0 finished with value: 0.5 and parameters: {'A': 3, 'B': 6}. Best is trial 0 with value: 0.5.\u001b[0m\n",
            "\u001b[32m[I 2023-03-31 18:37:16,769]\u001b[0m Trial 1 finished with value: 0.2 and parameters: {'A': 1, 'B': 5}. Best is trial 1 with value: 0.2.\u001b[0m\n",
            "\u001b[32m[I 2023-03-31 18:37:16,774]\u001b[0m Trial 2 finished with value: 0.2 and parameters: {'A': 1, 'B': 5}. Best is trial 1 with value: 0.2.\u001b[0m\n",
            "\u001b[32m[I 2023-03-31 18:37:16,779]\u001b[0m Trial 3 finished with value: 0.2 and parameters: {'A': 1, 'B': 5}. Best is trial 1 with value: 0.2.\u001b[0m\n",
            "\u001b[32m[I 2023-03-31 18:37:16,783]\u001b[0m Trial 4 finished with value: 0.16666666666666666 and parameters: {'A': 1, 'B': 6}. Best is trial 4 with value: 0.16666666666666666.\u001b[0m\n",
            "\u001b[32m[I 2023-03-31 18:37:16,785]\u001b[0m Trial 5 finished with value: 0.3333333333333333 and parameters: {'A': 2, 'B': 6}. Best is trial 4 with value: 0.16666666666666666.\u001b[0m\n",
            "\u001b[32m[I 2023-03-31 18:37:16,789]\u001b[0m Trial 6 finished with value: 0.5 and parameters: {'A': 3, 'B': 6}. Best is trial 4 with value: 0.16666666666666666.\u001b[0m\n",
            "\u001b[32m[I 2023-03-31 18:37:16,792]\u001b[0m Trial 7 finished with value: 0.16666666666666666 and parameters: {'A': 1, 'B': 6}. Best is trial 4 with value: 0.16666666666666666.\u001b[0m\n",
            "\u001b[32m[I 2023-03-31 18:37:16,797]\u001b[0m Trial 8 finished with value: 0.16666666666666666 and parameters: {'A': 1, 'B': 6}. Best is trial 4 with value: 0.16666666666666666.\u001b[0m\n",
            "\u001b[32m[I 2023-03-31 18:37:16,799]\u001b[0m Trial 9 finished with value: 0.4 and parameters: {'A': 2, 'B': 5}. Best is trial 4 with value: 0.16666666666666666.\u001b[0m\n",
            "\u001b[32m[I 2023-03-31 18:37:16,808]\u001b[0m Trial 10 finished with value: 0.3333333333333333 and parameters: {'A': 2, 'B': 6}. Best is trial 4 with value: 0.16666666666666666.\u001b[0m\n",
            "\u001b[32m[I 2023-03-31 18:37:16,814]\u001b[0m Trial 11 finished with value: 0.16666666666666666 and parameters: {'A': 1, 'B': 6}. Best is trial 4 with value: 0.16666666666666666.\u001b[0m\n",
            "\u001b[32m[I 2023-03-31 18:37:16,818]\u001b[0m Trial 12 finished with value: 0.16666666666666666 and parameters: {'A': 1, 'B': 6}. Best is trial 4 with value: 0.16666666666666666.\u001b[0m\n",
            "\u001b[32m[I 2023-03-31 18:37:16,823]\u001b[0m Trial 13 finished with value: 0.16666666666666666 and parameters: {'A': 1, 'B': 6}. Best is trial 4 with value: 0.16666666666666666.\u001b[0m\n",
            "\u001b[32m[I 2023-03-31 18:37:16,827]\u001b[0m Trial 14 finished with value: 0.16666666666666666 and parameters: {'A': 1, 'B': 6}. Best is trial 4 with value: 0.16666666666666666.\u001b[0m\n",
            "\u001b[32m[I 2023-03-31 18:37:16,832]\u001b[0m Trial 15 finished with value: 0.5 and parameters: {'A': 3, 'B': 6}. Best is trial 4 with value: 0.16666666666666666.\u001b[0m\n",
            "\u001b[32m[I 2023-03-31 18:37:16,839]\u001b[0m Trial 16 finished with value: 0.16666666666666666 and parameters: {'A': 1, 'B': 6}. Best is trial 4 with value: 0.16666666666666666.\u001b[0m\n",
            "\u001b[32m[I 2023-03-31 18:37:16,843]\u001b[0m Trial 17 finished with value: 0.16666666666666666 and parameters: {'A': 1, 'B': 6}. Best is trial 4 with value: 0.16666666666666666.\u001b[0m\n",
            "\u001b[32m[I 2023-03-31 18:37:16,847]\u001b[0m Trial 18 finished with value: 0.4 and parameters: {'A': 2, 'B': 5}. Best is trial 4 with value: 0.16666666666666666.\u001b[0m\n",
            "\u001b[32m[I 2023-03-31 18:37:16,851]\u001b[0m Trial 19 finished with value: 0.5 and parameters: {'A': 3, 'B': 6}. Best is trial 4 with value: 0.16666666666666666.\u001b[0m\n"
          ]
        }
      ]
    }
  ]
}